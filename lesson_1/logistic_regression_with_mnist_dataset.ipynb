{
  "nbformat": 4,
  "nbformat_minor": 0,
  "metadata": {
    "colab": {
      "name": "logistic_regression_with _mnist_dataset",
      "provenance": [],
      "collapsed_sections": [],
      "authorship_tag": "ABX9TyNMEAgP7kYXfSOrs1do17qR",
      "include_colab_link": true
    },
    "kernelspec": {
      "name": "python3",
      "display_name": "Python 3"
    }
  },
  "cells": [
    {
      "cell_type": "markdown",
      "metadata": {
        "id": "view-in-github",
        "colab_type": "text"
      },
      "source": [
        "<a href=\"https://colab.research.google.com/github/ltbinh97/deep-learning-in-data-science/blob/master/lesson_1/logistic_regression_with_mnist_dataset.ipynb\" target=\"_parent\"><img src=\"https://colab.research.google.com/assets/colab-badge.svg\" alt=\"Open In Colab\"/></a>"
      ]
    },
    {
      "cell_type": "markdown",
      "metadata": {
        "id": "r01XNaNwYsZX"
      },
      "source": [
        "# Logistic Regression with MNIST dataset\n",
        "- **Logistic Regression** là thuật toán hồi quy tuyến tính, đây là thuật toán **phân lớp (classification)**, tên thuật toán có regression không có nghĩa rằng đây là thuật toán **hồi quy (regression)** vì đó chỉ là tên thuật toán.\n",
        "- Bộ dữ liệu **MNIST** phục vụ mục đích học các kỹ thuật và các phương pháp nhận dạng mẫu, bỏ qua thời gian phải tiền xử lý và chuẩn hóa dữ liệu (Vì thời gian xử lý dữ liệu chiếm đến gần 80% thời gian làm sản phẩm thực tế).\n",
        "- **Mẫu** trong bài toán là mỗi bức ảnh, và trong bộ dữ liệu này có đến 60000 ảnh = 60000 mẫu."
      ]
    },
    {
      "cell_type": "markdown",
      "metadata": {
        "id": "o-clkfM7i81z"
      },
      "source": [
        "## Downloading the MNIST data\n",
        "- Thư viện được sử dụng ở đây là keras, thư viện đã giúp chia dữ liệu theo tỉ lệ chuẩn: dữ liệu dùng để huấn luyện chiếm 6/7 tổng dữ liệu và dữ liệu dùng để kiểm tra chiếm 1/7 tổng dữ liệu.\n",
        "- Tập dữ liệu huấn luyện có kích thước (60000, 28, 28) đồng nghĩa rằng mỗi ảnh có kích thước là 28x28 và tổng tất cả là 60000 ảnh."
      ]
    },
    {
      "cell_type": "code",
      "metadata": {
        "id": "HsC60iBD0YpH"
      },
      "source": [
        "from sklearn.datasets import fetch_openml\n",
        "mnist = fetch_openml('mnist_784')"
      ],
      "execution_count": 18,
      "outputs": []
    },
    {
      "cell_type": "code",
      "metadata": {
        "id": "UA96YLsC0Zwk",
        "outputId": "68c2e2ad-c2b6-450a-84a9-0c24aec2e0ab",
        "colab": {
          "base_uri": "https://localhost:8080/",
          "height": 34
        }
      },
      "source": [
        "mnist.data.shape"
      ],
      "execution_count": 20,
      "outputs": [
        {
          "output_type": "execute_result",
          "data": {
            "text/plain": [
              "(70000, 784)"
            ]
          },
          "metadata": {
            "tags": []
          },
          "execution_count": 20
        }
      ]
    },
    {
      "cell_type": "code",
      "metadata": {
        "id": "aXWiyUHHX4F_"
      },
      "source": [
        "train_img, test_img, train_lb, test_lb = "
      ],
      "execution_count": null,
      "outputs": []
    },
    {
      "cell_type": "code",
      "metadata": {
        "id": "dWQ09jzlRynR"
      },
      "source": [
        "#matplot inline\n",
        "from keras.datasets import mnist\n",
        "from sklearn\n",
        "\n",
        "# test size = 1/7 total of mnist data => training_size = 6/7 total of mnist data\n",
        "(train_img, train_lb), (test_img, test_lb) = mnist.load_data()"
      ],
      "execution_count": 1,
      "outputs": []
    },
    {
      "cell_type": "code",
      "metadata": {
        "id": "YZDQcuQLgIvC",
        "outputId": "c0045826-0032-46ff-ca50-90ffe0599ac0",
        "colab": {
          "base_uri": "https://localhost:8080/",
          "height": 34
        }
      },
      "source": [
        "train_img = train_img.reshape(60000, 784)\n",
        "train_img.shape"
      ],
      "execution_count": 2,
      "outputs": [
        {
          "output_type": "execute_result",
          "data": {
            "text/plain": [
              "(60000, 784)"
            ]
          },
          "metadata": {
            "tags": []
          },
          "execution_count": 2
        }
      ]
    },
    {
      "cell_type": "code",
      "metadata": {
        "id": "uX2PkcDYg31S",
        "outputId": "7cee95c6-f7b2-4499-acf4-25ab790f336a",
        "colab": {
          "base_uri": "https://localhost:8080/",
          "height": 34
        }
      },
      "source": [
        "train_lb.shape"
      ],
      "execution_count": 3,
      "outputs": [
        {
          "output_type": "execute_result",
          "data": {
            "text/plain": [
              "(60000,)"
            ]
          },
          "metadata": {
            "tags": []
          },
          "execution_count": 3
        }
      ]
    },
    {
      "cell_type": "code",
      "metadata": {
        "id": "fmq8QzHng464",
        "outputId": "c9b90f7b-9ab3-45e2-f508-11258620ce01",
        "colab": {
          "base_uri": "https://localhost:8080/",
          "height": 34
        }
      },
      "source": [
        "test_img = test_img.reshape(10000, 784)\n",
        "test_img.shape"
      ],
      "execution_count": 4,
      "outputs": [
        {
          "output_type": "execute_result",
          "data": {
            "text/plain": [
              "(10000, 784)"
            ]
          },
          "metadata": {
            "tags": []
          },
          "execution_count": 4
        }
      ]
    },
    {
      "cell_type": "code",
      "metadata": {
        "id": "4yttKQh7g6La",
        "outputId": "00be986c-3825-4bfe-b486-27c5c21a238d",
        "colab": {
          "base_uri": "https://localhost:8080/",
          "height": 34
        }
      },
      "source": [
        "test_lb.shape"
      ],
      "execution_count": 5,
      "outputs": [
        {
          "output_type": "execute_result",
          "data": {
            "text/plain": [
              "(10000,)"
            ]
          },
          "metadata": {
            "tags": []
          },
          "execution_count": 5
        }
      ]
    },
    {
      "cell_type": "markdown",
      "metadata": {
        "id": "iQ478_a4g9nU"
      },
      "source": [
        "### Showing the images and labels"
      ]
    },
    {
      "cell_type": "code",
      "metadata": {
        "id": "hVTR4jQUuizD"
      },
      "source": [
        "import numpy as np\n",
        "import matplotlib.pyplot as plt"
      ],
      "execution_count": 6,
      "outputs": []
    },
    {
      "cell_type": "code",
      "metadata": {
        "id": "QYblurDAuj8K",
        "outputId": "4af04f34-6e97-4559-f4c2-e3ba382950f5",
        "colab": {
          "base_uri": "https://localhost:8080/",
          "height": 283
        }
      },
      "source": [
        "plt.figure(figsize=(20,4))\n",
        "for index, (image, label) in enumerate(zip(train_img[0:5], train_lb[0:5])):\n",
        "    plt.subplot(1, 5, index + 1)\n",
        "    plt.imshow(np.reshape(image, (28, 28)), cmap = plt.cm.gray)\n",
        "    plt.title('Training: %i\\n' % label, fontsize=20)"
      ],
      "execution_count": 7,
      "outputs": [
        {
          "output_type": "display_data",
          "data": {
            "image/png": "[encoded data removed]",
            "text/plain": [
              "<Figure size 1440x288 with 5 Axes>"
            ]
          },
          "metadata": {
            "tags": [],
            "needs_background": "light"
          }
        }
      ]
    },
    {
      "cell_type": "markdown",
      "metadata": {
        "id": "CE52bFFHwpeq"
      },
      "source": [
        "### Scikit-learn 4-step modeling pattern (Digits Dataset)"
      ]
    },
    {
      "cell_type": "markdown",
      "metadata": {
        "id": "EItVfRptxoz6"
      },
      "source": [
        "**Step 1.** Import model you want to use\n",
        "\n",
        "In sklearn, all machine leaning models are implemented as Python classes"
      ]
    },
    {
      "cell_type": "code",
      "metadata": {
        "id": "KGGP3uXaxvsX"
      },
      "source": [
        "from sklearn.linear_model import LogisticRegression"
      ],
      "execution_count": 8,
      "outputs": []
    },
    {
      "cell_type": "markdown",
      "metadata": {
        "id": "Hh2SQcW6yBFv"
      },
      "source": [
        "**Step 2.** Make an instance of the Model"
      ]
    },
    {
      "cell_type": "code",
      "metadata": {
        "id": "k2H_3Zy4yJC1"
      },
      "source": [
        "# default solver is incredibly slow that's why I change it\n",
        "logisticRegr = LogisticRegression(solver = 'lbfgs')"
      ],
      "execution_count": 9,
      "outputs": []
    },
    {
      "cell_type": "markdown",
      "metadata": {
        "id": "PrU5-vVkyvJt"
      },
      "source": [
        "**Step 3.** Training the model on the data, storing the information learned from the data\n",
        "\n",
        "Model is learning the relationship between digits and labels"
      ]
    },
    {
      "cell_type": "code",
      "metadata": {
        "id": "78ctvMsUzA_I",
        "outputId": "bdac4296-bfcd-445b-ae0e-10dee2f6ba9d",
        "colab": {
          "base_uri": "https://localhost:8080/",
          "height": 238
        }
      },
      "source": [
        "logisticRegr.fit(train_img, train_lb)"
      ],
      "execution_count": 10,
      "outputs": [
        {
          "output_type": "stream",
          "text": [
            "/usr/local/lib/python3.6/dist-packages/sklearn/linear_model/_logistic.py:940: ConvergenceWarning: lbfgs failed to converge (status=1):\n",
            "STOP: TOTAL NO. of ITERATIONS REACHED LIMIT.\n",
            "\n",
            "Increase the number of iterations (max_iter) or scale the data as shown in:\n",
            "    https://scikit-learn.org/stable/modules/preprocessing.html\n",
            "Please also refer to the documentation for alternative solver options:\n",
            "    https://scikit-learn.org/stable/modules/linear_model.html#logistic-regression\n",
            "  extra_warning_msg=_LOGISTIC_SOLVER_CONVERGENCE_MSG)\n"
          ],
          "name": "stderr"
        },
        {
          "output_type": "execute_result",
          "data": {
            "text/plain": [
              "LogisticRegression(C=1.0, class_weight=None, dual=False, fit_intercept=True,\n",
              "                   intercept_scaling=1, l1_ratio=None, max_iter=100,\n",
              "                   multi_class='auto', n_jobs=None, penalty='l2',\n",
              "                   random_state=None, solver='lbfgs', tol=0.0001, verbose=0,\n",
              "                   warm_start=False)"
            ]
          },
          "metadata": {
            "tags": []
          },
          "execution_count": 10
        }
      ]
    },
    {
      "cell_type": "markdown",
      "metadata": {
        "id": "XHIkYSxkzMjG"
      },
      "source": [
        "**Step 4.** Predict the labels of new data (new images)\n",
        "\n",
        "Uses the information the model learned during the model training process\n",
        "\n",
        "- Đầu vào của các mô hình deep learning lúc nào cũng là **vector** kể cả trong các bài toán Văn bản (Natural Language Processing), Âm thanh (Speech), Hình ảnh (Computer Vision). \n",
        "- Kích thước của mỗi vector đều phải giống nhau.\n",
        "- Deep learning có mục đích giúp biểu diễn vector hiệu quả"
      ]
    },
    {
      "cell_type": "code",
      "metadata": {
        "id": "TcRPtymh1j-0",
        "outputId": "bc529f11-7692-4f90-a249-dfa742e3797a",
        "colab": {
          "base_uri": "https://localhost:8080/",
          "height": 34
        }
      },
      "source": [
        "# Return a numpy array\n",
        "# Predict for One Observation\n",
        "logisticRegr.predict(test_img[0].reshape(1,-1))"
      ],
      "execution_count": 11,
      "outputs": [
        {
          "output_type": "execute_result",
          "data": {
            "text/plain": [
              "array([7], dtype=uint8)"
            ]
          },
          "metadata": {
            "tags": []
          },
          "execution_count": 11
        }
      ]
    },
    {
      "cell_type": "code",
      "metadata": {
        "id": "ZgIZRLDR2Dof",
        "outputId": "5258d903-b48a-4d22-a9cf-9e267350b9a6",
        "colab": {
          "base_uri": "https://localhost:8080/",
          "height": 34
        }
      },
      "source": [
        "# Predict multiple observations (images) at once\n",
        "logisticRegr.predict(test_img[0:10])"
      ],
      "execution_count": 12,
      "outputs": [
        {
          "output_type": "execute_result",
          "data": {
            "text/plain": [
              "array([7, 2, 1, 0, 4, 1, 4, 9, 6, 9], dtype=uint8)"
            ]
          },
          "metadata": {
            "tags": []
          },
          "execution_count": 12
        }
      ]
    },
    {
      "cell_type": "code",
      "metadata": {
        "id": "FqLPHe282X1P"
      },
      "source": [
        "# Make predictions for the entire test data\n",
        "predictions = logisticRegr.predict(test_img)"
      ],
      "execution_count": 13,
      "outputs": []
    },
    {
      "cell_type": "markdown",
      "metadata": {
        "id": "Z9dwAPXM4mCL"
      },
      "source": [
        "### Measuring Model Performance\n",
        "\n",
        "While there are other ways of measuring model performance, we are going to keep this simple and use accuracy as our metric. To do this, we are going to see how the model performs on the new data (test data)\n",
        "\n",
        "- accuracy is defined as: fraction of correct predictions = correct predictions / total number of data points\n"
      ]
    },
    {
      "cell_type": "code",
      "metadata": {
        "id": "Au-GI1NB5gHi",
        "outputId": "cbe2d0be-f88e-4561-e1ea-4182ba5d3f9a",
        "colab": {
          "base_uri": "https://localhost:8080/",
          "height": 34
        }
      },
      "source": [
        "score = logisticRegr.score(test_img, test_lb)\n",
        "score"
      ],
      "execution_count": 14,
      "outputs": [
        {
          "output_type": "execute_result",
          "data": {
            "text/plain": [
              "0.9255"
            ]
          },
          "metadata": {
            "tags": []
          },
          "execution_count": 14
        }
      ]
    },
    {
      "cell_type": "markdown",
      "metadata": {
        "id": "O8ifryqI5ooj"
      },
      "source": [
        "### Display misclassified images with predicted labels"
      ]
    },
    {
      "cell_type": "code",
      "metadata": {
        "id": "dwMB9aw89a9p"
      },
      "source": [
        "misclassifiedIndexes = []\n",
        "for index, (label, predict) in enumerate(zip(test_lb, predictions)):\n",
        "    if label != predict:\n",
        "        misclassifiedIndexes.append(index)"
      ],
      "execution_count": 15,
      "outputs": []
    },
    {
      "cell_type": "code",
      "metadata": {
        "id": "rB8_RXte8gNZ",
        "outputId": "6fc8a3da-d56f-4aa2-fbad-150eb47eb86d",
        "colab": {
          "base_uri": "https://localhost:8080/",
          "height": 258
        }
      },
      "source": [
        "plt.figure(figsize=(20,4))\n",
        "for plotIndex, badIndex in enumerate(misclassifiedIndexes[0:5]):\n",
        "    plt.subplot(1, 5, plotIndex + 1)\n",
        "    plt.imshow(np.reshape(test_img[badIndex], (28,28)), cmap=plt.cm.gray)\n",
        "    plt.title('Predicted: {}, Actual: {}'.format(predictions[badIndex], test_lb[badIndex]), fontsize=15)"
      ],
      "execution_count": 16,
      "outputs": [
        {
          "output_type": "display_data",
          "data": {
            "image/png": "[encoded data removed]",
            "text/plain": [
              "<Figure size 1440x288 with 5 Axes>"
            ]
          },
          "metadata": {
            "tags": [],
            "needs_background": "light"
          }
        }
      ]
    }
  ]
}